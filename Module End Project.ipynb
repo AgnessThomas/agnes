{
 "cells": [
  {
   "cell_type": "code",
   "execution_count": 1,
   "id": "334df7b8-e04d-4e58-b09a-44f3373532e4",
   "metadata": {},
   "outputs": [],
   "source": [
    "import pandas as pd\n",
    "import numpy as np\n",
    "import matplotlib.pyplot as plt"
   ]
  },
  {
   "cell_type": "code",
   "execution_count": 4,
   "id": "c147fa5f-744d-4624-bc56-9e13964769bf",
   "metadata": {},
   "outputs": [
    {
     "data": {
      "text/html": [
       "<div>\n",
       "<style scoped>\n",
       "    .dataframe tbody tr th:only-of-type {\n",
       "        vertical-align: middle;\n",
       "    }\n",
       "\n",
       "    .dataframe tbody tr th {\n",
       "        vertical-align: top;\n",
       "    }\n",
       "\n",
       "    .dataframe thead th {\n",
       "        text-align: right;\n",
       "    }\n",
       "</style>\n",
       "<table border=\"1\" class=\"dataframe\">\n",
       "  <thead>\n",
       "    <tr style=\"text-align: right;\">\n",
       "      <th></th>\n",
       "      <th>Name</th>\n",
       "      <th>Team</th>\n",
       "      <th>Number</th>\n",
       "      <th>Position</th>\n",
       "      <th>Age</th>\n",
       "      <th>Height</th>\n",
       "      <th>Weight</th>\n",
       "      <th>College</th>\n",
       "      <th>Salary</th>\n",
       "    </tr>\n",
       "  </thead>\n",
       "  <tbody>\n",
       "    <tr>\n",
       "      <th>0</th>\n",
       "      <td>Avery Bradley</td>\n",
       "      <td>Boston Celtics</td>\n",
       "      <td>0</td>\n",
       "      <td>PG</td>\n",
       "      <td>25</td>\n",
       "      <td>06-Feb</td>\n",
       "      <td>180</td>\n",
       "      <td>Texas</td>\n",
       "      <td>7730337.0</td>\n",
       "    </tr>\n",
       "    <tr>\n",
       "      <th>1</th>\n",
       "      <td>Jae Crowder</td>\n",
       "      <td>Boston Celtics</td>\n",
       "      <td>99</td>\n",
       "      <td>SF</td>\n",
       "      <td>25</td>\n",
       "      <td>06-Jun</td>\n",
       "      <td>235</td>\n",
       "      <td>Marquette</td>\n",
       "      <td>6796117.0</td>\n",
       "    </tr>\n",
       "    <tr>\n",
       "      <th>2</th>\n",
       "      <td>John Holland</td>\n",
       "      <td>Boston Celtics</td>\n",
       "      <td>30</td>\n",
       "      <td>SG</td>\n",
       "      <td>27</td>\n",
       "      <td>06-May</td>\n",
       "      <td>205</td>\n",
       "      <td>Boston University</td>\n",
       "      <td>NaN</td>\n",
       "    </tr>\n",
       "    <tr>\n",
       "      <th>3</th>\n",
       "      <td>R.J. Hunter</td>\n",
       "      <td>Boston Celtics</td>\n",
       "      <td>28</td>\n",
       "      <td>SG</td>\n",
       "      <td>22</td>\n",
       "      <td>06-May</td>\n",
       "      <td>185</td>\n",
       "      <td>Georgia State</td>\n",
       "      <td>1148640.0</td>\n",
       "    </tr>\n",
       "    <tr>\n",
       "      <th>4</th>\n",
       "      <td>Jonas Jerebko</td>\n",
       "      <td>Boston Celtics</td>\n",
       "      <td>8</td>\n",
       "      <td>PF</td>\n",
       "      <td>29</td>\n",
       "      <td>06-Oct</td>\n",
       "      <td>231</td>\n",
       "      <td>NaN</td>\n",
       "      <td>5000000.0</td>\n",
       "    </tr>\n",
       "    <tr>\n",
       "      <th>...</th>\n",
       "      <td>...</td>\n",
       "      <td>...</td>\n",
       "      <td>...</td>\n",
       "      <td>...</td>\n",
       "      <td>...</td>\n",
       "      <td>...</td>\n",
       "      <td>...</td>\n",
       "      <td>...</td>\n",
       "      <td>...</td>\n",
       "    </tr>\n",
       "    <tr>\n",
       "      <th>453</th>\n",
       "      <td>Shelvin Mack</td>\n",
       "      <td>Utah Jazz</td>\n",
       "      <td>8</td>\n",
       "      <td>PG</td>\n",
       "      <td>26</td>\n",
       "      <td>06-Mar</td>\n",
       "      <td>203</td>\n",
       "      <td>Butler</td>\n",
       "      <td>2433333.0</td>\n",
       "    </tr>\n",
       "    <tr>\n",
       "      <th>454</th>\n",
       "      <td>Raul Neto</td>\n",
       "      <td>Utah Jazz</td>\n",
       "      <td>25</td>\n",
       "      <td>PG</td>\n",
       "      <td>24</td>\n",
       "      <td>06-Jan</td>\n",
       "      <td>179</td>\n",
       "      <td>NaN</td>\n",
       "      <td>900000.0</td>\n",
       "    </tr>\n",
       "    <tr>\n",
       "      <th>455</th>\n",
       "      <td>Tibor Pleiss</td>\n",
       "      <td>Utah Jazz</td>\n",
       "      <td>21</td>\n",
       "      <td>C</td>\n",
       "      <td>26</td>\n",
       "      <td>07-Mar</td>\n",
       "      <td>256</td>\n",
       "      <td>NaN</td>\n",
       "      <td>2900000.0</td>\n",
       "    </tr>\n",
       "    <tr>\n",
       "      <th>456</th>\n",
       "      <td>Jeff Withey</td>\n",
       "      <td>Utah Jazz</td>\n",
       "      <td>24</td>\n",
       "      <td>C</td>\n",
       "      <td>26</td>\n",
       "      <td>7-0</td>\n",
       "      <td>231</td>\n",
       "      <td>Kansas</td>\n",
       "      <td>947276.0</td>\n",
       "    </tr>\n",
       "    <tr>\n",
       "      <th>457</th>\n",
       "      <td>Priyanka</td>\n",
       "      <td>Utah Jazz</td>\n",
       "      <td>34</td>\n",
       "      <td>C</td>\n",
       "      <td>25</td>\n",
       "      <td>07-Mar</td>\n",
       "      <td>231</td>\n",
       "      <td>Kansas</td>\n",
       "      <td>947276.0</td>\n",
       "    </tr>\n",
       "  </tbody>\n",
       "</table>\n",
       "<p>458 rows × 9 columns</p>\n",
       "</div>"
      ],
      "text/plain": [
       "              Name            Team  Number Position  Age  Height  Weight  \\\n",
       "0    Avery Bradley  Boston Celtics       0       PG   25  06-Feb     180   \n",
       "1      Jae Crowder  Boston Celtics      99       SF   25  06-Jun     235   \n",
       "2     John Holland  Boston Celtics      30       SG   27  06-May     205   \n",
       "3      R.J. Hunter  Boston Celtics      28       SG   22  06-May     185   \n",
       "4    Jonas Jerebko  Boston Celtics       8       PF   29  06-Oct     231   \n",
       "..             ...             ...     ...      ...  ...     ...     ...   \n",
       "453   Shelvin Mack       Utah Jazz       8       PG   26  06-Mar     203   \n",
       "454      Raul Neto       Utah Jazz      25       PG   24  06-Jan     179   \n",
       "455   Tibor Pleiss       Utah Jazz      21        C   26  07-Mar     256   \n",
       "456    Jeff Withey       Utah Jazz      24        C   26     7-0     231   \n",
       "457       Priyanka       Utah Jazz      34        C   25  07-Mar     231   \n",
       "\n",
       "               College     Salary  \n",
       "0                Texas  7730337.0  \n",
       "1            Marquette  6796117.0  \n",
       "2    Boston University        NaN  \n",
       "3        Georgia State  1148640.0  \n",
       "4                  NaN  5000000.0  \n",
       "..                 ...        ...  \n",
       "453             Butler  2433333.0  \n",
       "454                NaN   900000.0  \n",
       "455                NaN  2900000.0  \n",
       "456             Kansas   947276.0  \n",
       "457             Kansas   947276.0  \n",
       "\n",
       "[458 rows x 9 columns]"
      ]
     },
     "execution_count": 4,
     "metadata": {},
     "output_type": "execute_result"
    }
   ],
   "source": [
    "df=pd.read_csv(\"myexcel - myexcel.csv.csv\")\n",
    "df"
   ]
  },
  {
   "cell_type": "code",
   "execution_count": 8,
   "id": "39d5cf6e-5e18-4e57-98ca-81dbec27ccf7",
   "metadata": {},
   "outputs": [
    {
     "name": "stdout",
     "output_type": "stream",
     "text": [
      "            Name            Team  Number Position  Age  Height  Weight  \\\n",
      "0  Avery Bradley  Boston Celtics       0       PG   25     168     180   \n",
      "1    Jae Crowder  Boston Celtics      99       SF   25     172     235   \n",
      "2   John Holland  Boston Celtics      30       SG   27     159     205   \n",
      "3    R.J. Hunter  Boston Celtics      28       SG   22     174     185   \n",
      "4  Jonas Jerebko  Boston Celtics       8       PF   29     157     231   \n",
      "\n",
      "             College     Salary  \n",
      "0              Texas  7730337.0  \n",
      "1          Marquette  6796117.0  \n",
      "2  Boston University             \n",
      "3      Georgia State  1148640.0  \n",
      "4                     5000000.0  \n"
     ]
    }
   ],
   "source": [
    "df['Height']=np.random.randint(150,181,size=len(df))\n",
    "df.fillna('',inplace=True)\n",
    "print(df.head())"
   ]
  },
  {
   "cell_type": "code",
   "execution_count": null,
   "id": "c8ef5f63-799b-4c84-a383-591b2440fa94",
   "metadata": {},
   "outputs": [],
   "source": [
    "#1.How many are there in each Team and the percentage splitting with respect to the total employees."
   ]
  },
  {
   "cell_type": "code",
   "execution_count": 9,
   "id": "d8118fa3-b860-472e-8d35-0b7a89c270f9",
   "metadata": {},
   "outputs": [
    {
     "name": "stdout",
     "output_type": "stream",
     "text": [
      "                      Team  Count  Percentage\n",
      "0     New Orleans Pelicans     19    4.148472\n",
      "1        Memphis Grizzlies     18    3.930131\n",
      "2                Utah Jazz     16    3.493450\n",
      "3          New York Knicks     16    3.493450\n",
      "4          Milwaukee Bucks     16    3.493450\n",
      "5            Brooklyn Nets     15    3.275109\n",
      "6   Portland Trail Blazers     15    3.275109\n",
      "7    Oklahoma City Thunder     15    3.275109\n",
      "8           Denver Nuggets     15    3.275109\n",
      "9       Washington Wizards     15    3.275109\n",
      "10              Miami Heat     15    3.275109\n",
      "11       Charlotte Hornets     15    3.275109\n",
      "12           Atlanta Hawks     15    3.275109\n",
      "13       San Antonio Spurs     15    3.275109\n",
      "14         Houston Rockets     15    3.275109\n",
      "15          Boston Celtics     15    3.275109\n",
      "16          Indiana Pacers     15    3.275109\n",
      "17         Detroit Pistons     15    3.275109\n",
      "18     Cleveland Cavaliers     15    3.275109\n",
      "19           Chicago Bulls     15    3.275109\n",
      "20        Sacramento Kings     15    3.275109\n",
      "21            Phoenix Suns     15    3.275109\n",
      "22      Los Angeles Lakers     15    3.275109\n",
      "23    Los Angeles Clippers     15    3.275109\n",
      "24   Golden State Warriors     15    3.275109\n",
      "25         Toronto Raptors     15    3.275109\n",
      "26      Philadelphia 76ers     15    3.275109\n",
      "27        Dallas Mavericks     15    3.275109\n",
      "28           Orlando Magic     14    3.056769\n",
      "29  Minnesota Timberwolves     14    3.056769\n"
     ]
    }
   ],
   "source": [
    "team_counts=df['Team'].value_counts()\n",
    "percentage_split=(team_counts/len(df))*100\n",
    "team_stats=pd.DataFrame({'Team':team_counts.index,'Count': team_counts.values,'Percentage':percentage_split.values})\n",
    "print(team_stats)"
   ]
  },
  {
   "cell_type": "code",
   "execution_count": 10,
   "id": "f5590f70-c8f1-4b15-a886-93e1ba148ccf",
   "metadata": {},
   "outputs": [],
   "source": [
    "#2.Segregate the employees w.r.t different positions."
   ]
  },
  {
   "cell_type": "code",
   "execution_count": 11,
   "id": "7c1e570e-3535-4345-a91c-be765fb5d4ef",
   "metadata": {},
   "outputs": [
    {
     "name": "stdout",
     "output_type": "stream",
     "text": [
      "Position\n",
      "SG    102\n",
      "PF    100\n",
      "PG     92\n",
      "SF     85\n",
      "C      79\n",
      "Name: count, dtype: int64\n"
     ]
    }
   ],
   "source": [
    "position_counts=df['Position'].value_counts()\n",
    "print(position_counts)"
   ]
  },
  {
   "cell_type": "code",
   "execution_count": null,
   "id": "bda87fbe-f91d-4f8e-8b2a-3939f375ad15",
   "metadata": {},
   "outputs": [],
   "source": [
    "#3.Find from which age group most of the employees belong to."
   ]
  },
  {
   "cell_type": "code",
   "execution_count": 13,
   "id": "eeaab637-73f9-4cea-b8eb-7382227d7dbb",
   "metadata": {},
   "outputs": [
    {
     "data": {
      "text/plain": [
       "Age\n",
       "24    47\n",
       "Name: count, dtype: int64"
      ]
     },
     "execution_count": 13,
     "metadata": {},
     "output_type": "execute_result"
    }
   ],
   "source": [
    "df['Age'].value_counts()\n",
    "df.Age.value_counts().sort_values(ascending = False).head(1)\n"
   ]
  },
  {
   "cell_type": "code",
   "execution_count": null,
   "id": "d3c8afb6-7660-488c-8629-60800a690b47",
   "metadata": {},
   "outputs": [],
   "source": [
    "#4.Find out under which team and position, spending in terms of salary is high."
   ]
  },
  {
   "cell_type": "code",
   "execution_count": 14,
   "id": "b72b8cfa-89e2-4b21-b1b0-ecd662cabe2a",
   "metadata": {},
   "outputs": [
    {
     "name": "stdout",
     "output_type": "stream",
     "text": [
      "Team with highest spending : Los Angeles Lakers\n",
      "Postion with highest spending : SF\n"
     ]
    }
   ],
   "source": [
    "df['Salary']=pd.to_numeric(df['Salary'])\n",
    "team_position_salary=df.groupby(['Team','Position'])['Salary'].sum().reset_index()\n",
    "max_salary_index=team_position_salary['Salary'].idxmax()\n",
    "hightest_spending_team=team_position_salary.loc[max_salary_index,'Team']\n",
    "hightest_spending_position=team_position_salary.loc[max_salary_index,'Position']\n",
    "print(\"Team with highest spending :\",hightest_spending_team)\n",
    "print(\"Postion with highest spending :\",hightest_spending_position)"
   ]
  },
  {
   "cell_type": "code",
   "execution_count": null,
   "id": "bd9cc065-611e-49f0-9813-70a715d43688",
   "metadata": {},
   "outputs": [],
   "source": [
    "#5.Find if there is any correlation between age and salary , represent it visually."
   ]
  },
  {
   "cell_type": "code",
   "execution_count": 19,
   "id": "05a27938-3c0a-4a4d-8864-7537397edec4",
   "metadata": {},
   "outputs": [
    {
     "data": {
      "image/png": "[encoded data removed]",
      "text/plain": [
       "<Figure size 640x480 with 1 Axes>"
      ]
     },
     "metadata": {},
     "output_type": "display_data"
    }
   ],
   "source": [
    "df.plot.scatter(x='Age',y='Salary',color='r')\n",
    "plt.xlabel('Age')\n",
    "plt.ylabel('Salary')\n",
    "plt.title('Correlation between age and salary')\n",
    "plt.show()"
   ]
  },
  {
   "cell_type": "code",
   "execution_count": null,
   "id": "2ae2644e-5231-4aa6-a096-bd41e783b94b",
   "metadata": {},
   "outputs": [],
   "source": []
  }
 ],
 "metadata": {
  "kernelspec": {
   "display_name": "Python 3 (ipykernel)",
   "language": "python",
   "name": "python3"
  },
  "language_info": {
   "codemirror_mode": {
    "name": "ipython",
    "version": 3
   },
   "file_extension": ".py",
   "mimetype": "text/x-python",
   "name": "python",
   "nbconvert_exporter": "python",
   "pygments_lexer": "ipython3",
   "version": "3.11.2"
  }
 },
 "nbformat": 4,
 "nbformat_minor": 5
}
